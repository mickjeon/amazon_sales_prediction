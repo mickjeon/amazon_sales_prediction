{
  "nbformat": 4,
  "nbformat_minor": 0,
  "metadata": {
    "colab": {
      "provenance": []
    },
    "kernelspec": {
      "name": "python3",
      "display_name": "Python 3"
    },
    "language_info": {
      "name": "python"
    }
  },
  "cells": [
    {
      "cell_type": "markdown",
      "source": [
        "# Polynomial Regression without Normalization"
      ],
      "metadata": {
        "id": "2Rp9cunD8hNN"
      }
    },
    {
      "cell_type": "markdown",
      "source": [
        "## Fetch Preprocessed Data"
      ],
      "metadata": {
        "id": "ixL9jauGz3Kv"
      }
    },
    {
      "cell_type": "code",
      "source": [
        "!git clone https://github.com/mickjeon/amazon_sales_prediction.git"
      ],
      "metadata": {
        "id": "0IJ9wSbVBeTA",
        "colab": {
          "base_uri": "https://localhost:8080/"
        },
        "outputId": "33e981c7-0391-4716-c291-aec57d8fa9be"
      },
      "execution_count": null,
      "outputs": [
        {
          "output_type": "stream",
          "name": "stdout",
          "text": [
            "Cloning into 'amazon_sales_prediction'...\n",
            "remote: Enumerating objects: 68, done.\u001b[K\n",
            "remote: Counting objects: 100% (68/68), done.\u001b[K\n",
            "remote: Compressing objects: 100% (59/59), done.\u001b[K\n",
            "remote: Total 68 (delta 17), reused 49 (delta 7), pack-reused 0\u001b[K\n",
            "Receiving objects: 100% (68/68), 8.67 MiB | 14.33 MiB/s, done.\n",
            "Resolving deltas: 100% (17/17), done.\n"
          ]
        }
      ]
    },
    {
      "cell_type": "code",
      "source": [
        "import numpy as np\n",
        "import pandas as pd\n",
        "import seaborn as sns\n",
        "import re\n",
        "import matplotlib.pyplot as plt"
      ],
      "metadata": {
        "id": "BvuN1svRCsY-"
      },
      "execution_count": null,
      "outputs": []
    },
    {
      "cell_type": "code",
      "source": [
        "data = pd.read_csv('amazon_sales_prediction/data.csv')\n",
        "data.head()"
      ],
      "metadata": {
        "id": "bBcF3GyF8pEt",
        "colab": {
          "base_uri": "https://localhost:8080/"
        },
        "outputId": "0555ee22-2857-48ec-9af3-b417885e067d"
      },
      "execution_count": null,
      "outputs": [
        {
          "output_type": "execute_result",
          "data": {
            "text/plain": [
              "   sub_category  ratings  no_of_ratings  discount_price_usd  actual_price_usd  \\\n",
              "0             0      4.1         2092.0            4.590915          7.205687   \n",
              "1             1      4.4         7943.0          132.534040        240.872394   \n",
              "2             0      3.8          229.0            2.482227         12.049645   \n",
              "3             0      3.7           33.0            2.156886         18.062417   \n",
              "4             2      3.6           37.0            0.409688          0.590433   \n",
              "\n",
              "   discount_rate  agg_rating  \n",
              "0      36.287625      8577.2  \n",
              "1      44.977489     34949.2  \n",
              "2      79.400000       870.2  \n",
              "3      88.058706       122.1  \n",
              "4      30.612245       133.2  "
            ],
            "text/html": [
              "\n",
              "  <div id=\"df-b60e4125-678f-4afb-8ded-56ce688355dc\" class=\"colab-df-container\">\n",
              "    <div>\n",
              "<style scoped>\n",
              "    .dataframe tbody tr th:only-of-type {\n",
              "        vertical-align: middle;\n",
              "    }\n",
              "\n",
              "    .dataframe tbody tr th {\n",
              "        vertical-align: top;\n",
              "    }\n",
              "\n",
              "    .dataframe thead th {\n",
              "        text-align: right;\n",
              "    }\n",
              "</style>\n",
              "<table border=\"1\" class=\"dataframe\">\n",
              "  <thead>\n",
              "    <tr style=\"text-align: right;\">\n",
              "      <th></th>\n",
              "      <th>sub_category</th>\n",
              "      <th>ratings</th>\n",
              "      <th>no_of_ratings</th>\n",
              "      <th>discount_price_usd</th>\n",
              "      <th>actual_price_usd</th>\n",
              "      <th>discount_rate</th>\n",
              "      <th>agg_rating</th>\n",
              "    </tr>\n",
              "  </thead>\n",
              "  <tbody>\n",
              "    <tr>\n",
              "      <th>0</th>\n",
              "      <td>0</td>\n",
              "      <td>4.1</td>\n",
              "      <td>2092.0</td>\n",
              "      <td>4.590915</td>\n",
              "      <td>7.205687</td>\n",
              "      <td>36.287625</td>\n",
              "      <td>8577.2</td>\n",
              "    </tr>\n",
              "    <tr>\n",
              "      <th>1</th>\n",
              "      <td>1</td>\n",
              "      <td>4.4</td>\n",
              "      <td>7943.0</td>\n",
              "      <td>132.534040</td>\n",
              "      <td>240.872394</td>\n",
              "      <td>44.977489</td>\n",
              "      <td>34949.2</td>\n",
              "    </tr>\n",
              "    <tr>\n",
              "      <th>2</th>\n",
              "      <td>0</td>\n",
              "      <td>3.8</td>\n",
              "      <td>229.0</td>\n",
              "      <td>2.482227</td>\n",
              "      <td>12.049645</td>\n",
              "      <td>79.400000</td>\n",
              "      <td>870.2</td>\n",
              "    </tr>\n",
              "    <tr>\n",
              "      <th>3</th>\n",
              "      <td>0</td>\n",
              "      <td>3.7</td>\n",
              "      <td>33.0</td>\n",
              "      <td>2.156886</td>\n",
              "      <td>18.062417</td>\n",
              "      <td>88.058706</td>\n",
              "      <td>122.1</td>\n",
              "    </tr>\n",
              "    <tr>\n",
              "      <th>4</th>\n",
              "      <td>2</td>\n",
              "      <td>3.6</td>\n",
              "      <td>37.0</td>\n",
              "      <td>0.409688</td>\n",
              "      <td>0.590433</td>\n",
              "      <td>30.612245</td>\n",
              "      <td>133.2</td>\n",
              "    </tr>\n",
              "  </tbody>\n",
              "</table>\n",
              "</div>\n",
              "    <div class=\"colab-df-buttons\">\n",
              "\n",
              "  <div class=\"colab-df-container\">\n",
              "    <button class=\"colab-df-convert\" onclick=\"convertToInteractive('df-b60e4125-678f-4afb-8ded-56ce688355dc')\"\n",
              "            title=\"Convert this dataframe to an interactive table.\"\n",
              "            style=\"display:none;\">\n",
              "\n",
              "  <svg xmlns=\"http://www.w3.org/2000/svg\" height=\"24px\" viewBox=\"0 -960 960 960\">\n",
              "    <path d=\"M120-120v-720h720v720H120Zm60-500h600v-160H180v160Zm220 220h160v-160H400v160Zm0 220h160v-160H400v160ZM180-400h160v-160H180v160Zm440 0h160v-160H620v160ZM180-180h160v-160H180v160Zm440 0h160v-160H620v160Z\"/>\n",
              "  </svg>\n",
              "    </button>\n",
              "\n",
              "  <style>\n",
              "    .colab-df-container {\n",
              "      display:flex;\n",
              "      gap: 12px;\n",
              "    }\n",
              "\n",
              "    .colab-df-convert {\n",
              "      background-color: #E8F0FE;\n",
              "      border: none;\n",
              "      border-radius: 50%;\n",
              "      cursor: pointer;\n",
              "      display: none;\n",
              "      fill: #1967D2;\n",
              "      height: 32px;\n",
              "      padding: 0 0 0 0;\n",
              "      width: 32px;\n",
              "    }\n",
              "\n",
              "    .colab-df-convert:hover {\n",
              "      background-color: #E2EBFA;\n",
              "      box-shadow: 0px 1px 2px rgba(60, 64, 67, 0.3), 0px 1px 3px 1px rgba(60, 64, 67, 0.15);\n",
              "      fill: #174EA6;\n",
              "    }\n",
              "\n",
              "    .colab-df-buttons div {\n",
              "      margin-bottom: 4px;\n",
              "    }\n",
              "\n",
              "    [theme=dark] .colab-df-convert {\n",
              "      background-color: #3B4455;\n",
              "      fill: #D2E3FC;\n",
              "    }\n",
              "\n",
              "    [theme=dark] .colab-df-convert:hover {\n",
              "      background-color: #434B5C;\n",
              "      box-shadow: 0px 1px 3px 1px rgba(0, 0, 0, 0.15);\n",
              "      filter: drop-shadow(0px 1px 2px rgba(0, 0, 0, 0.3));\n",
              "      fill: #FFFFFF;\n",
              "    }\n",
              "  </style>\n",
              "\n",
              "    <script>\n",
              "      const buttonEl =\n",
              "        document.querySelector('#df-b60e4125-678f-4afb-8ded-56ce688355dc button.colab-df-convert');\n",
              "      buttonEl.style.display =\n",
              "        google.colab.kernel.accessAllowed ? 'block' : 'none';\n",
              "\n",
              "      async function convertToInteractive(key) {\n",
              "        const element = document.querySelector('#df-b60e4125-678f-4afb-8ded-56ce688355dc');\n",
              "        const dataTable =\n",
              "          await google.colab.kernel.invokeFunction('convertToInteractive',\n",
              "                                                    [key], {});\n",
              "        if (!dataTable) return;\n",
              "\n",
              "        const docLinkHtml = 'Like what you see? Visit the ' +\n",
              "          '<a target=\"_blank\" href=https://colab.research.google.com/notebooks/data_table.ipynb>data table notebook</a>'\n",
              "          + ' to learn more about interactive tables.';\n",
              "        element.innerHTML = '';\n",
              "        dataTable['output_type'] = 'display_data';\n",
              "        await google.colab.output.renderOutput(dataTable, element);\n",
              "        const docLink = document.createElement('div');\n",
              "        docLink.innerHTML = docLinkHtml;\n",
              "        element.appendChild(docLink);\n",
              "      }\n",
              "    </script>\n",
              "  </div>\n",
              "\n",
              "\n",
              "<div id=\"df-cecb2126-8d33-41b6-9cf7-c36efc7650b1\">\n",
              "  <button class=\"colab-df-quickchart\" onclick=\"quickchart('df-cecb2126-8d33-41b6-9cf7-c36efc7650b1')\"\n",
              "            title=\"Suggest charts\"\n",
              "            style=\"display:none;\">\n",
              "\n",
              "<svg xmlns=\"http://www.w3.org/2000/svg\" height=\"24px\"viewBox=\"0 0 24 24\"\n",
              "     width=\"24px\">\n",
              "    <g>\n",
              "        <path d=\"M19 3H5c-1.1 0-2 .9-2 2v14c0 1.1.9 2 2 2h14c1.1 0 2-.9 2-2V5c0-1.1-.9-2-2-2zM9 17H7v-7h2v7zm4 0h-2V7h2v10zm4 0h-2v-4h2v4z\"/>\n",
              "    </g>\n",
              "</svg>\n",
              "  </button>\n",
              "\n",
              "<style>\n",
              "  .colab-df-quickchart {\n",
              "      --bg-color: #E8F0FE;\n",
              "      --fill-color: #1967D2;\n",
              "      --hover-bg-color: #E2EBFA;\n",
              "      --hover-fill-color: #174EA6;\n",
              "      --disabled-fill-color: #AAA;\n",
              "      --disabled-bg-color: #DDD;\n",
              "  }\n",
              "\n",
              "  [theme=dark] .colab-df-quickchart {\n",
              "      --bg-color: #3B4455;\n",
              "      --fill-color: #D2E3FC;\n",
              "      --hover-bg-color: #434B5C;\n",
              "      --hover-fill-color: #FFFFFF;\n",
              "      --disabled-bg-color: #3B4455;\n",
              "      --disabled-fill-color: #666;\n",
              "  }\n",
              "\n",
              "  .colab-df-quickchart {\n",
              "    background-color: var(--bg-color);\n",
              "    border: none;\n",
              "    border-radius: 50%;\n",
              "    cursor: pointer;\n",
              "    display: none;\n",
              "    fill: var(--fill-color);\n",
              "    height: 32px;\n",
              "    padding: 0;\n",
              "    width: 32px;\n",
              "  }\n",
              "\n",
              "  .colab-df-quickchart:hover {\n",
              "    background-color: var(--hover-bg-color);\n",
              "    box-shadow: 0 1px 2px rgba(60, 64, 67, 0.3), 0 1px 3px 1px rgba(60, 64, 67, 0.15);\n",
              "    fill: var(--button-hover-fill-color);\n",
              "  }\n",
              "\n",
              "  .colab-df-quickchart-complete:disabled,\n",
              "  .colab-df-quickchart-complete:disabled:hover {\n",
              "    background-color: var(--disabled-bg-color);\n",
              "    fill: var(--disabled-fill-color);\n",
              "    box-shadow: none;\n",
              "  }\n",
              "\n",
              "  .colab-df-spinner {\n",
              "    border: 2px solid var(--fill-color);\n",
              "    border-color: transparent;\n",
              "    border-bottom-color: var(--fill-color);\n",
              "    animation:\n",
              "      spin 1s steps(1) infinite;\n",
              "  }\n",
              "\n",
              "  @keyframes spin {\n",
              "    0% {\n",
              "      border-color: transparent;\n",
              "      border-bottom-color: var(--fill-color);\n",
              "      border-left-color: var(--fill-color);\n",
              "    }\n",
              "    20% {\n",
              "      border-color: transparent;\n",
              "      border-left-color: var(--fill-color);\n",
              "      border-top-color: var(--fill-color);\n",
              "    }\n",
              "    30% {\n",
              "      border-color: transparent;\n",
              "      border-left-color: var(--fill-color);\n",
              "      border-top-color: var(--fill-color);\n",
              "      border-right-color: var(--fill-color);\n",
              "    }\n",
              "    40% {\n",
              "      border-color: transparent;\n",
              "      border-right-color: var(--fill-color);\n",
              "      border-top-color: var(--fill-color);\n",
              "    }\n",
              "    60% {\n",
              "      border-color: transparent;\n",
              "      border-right-color: var(--fill-color);\n",
              "    }\n",
              "    80% {\n",
              "      border-color: transparent;\n",
              "      border-right-color: var(--fill-color);\n",
              "      border-bottom-color: var(--fill-color);\n",
              "    }\n",
              "    90% {\n",
              "      border-color: transparent;\n",
              "      border-bottom-color: var(--fill-color);\n",
              "    }\n",
              "  }\n",
              "</style>\n",
              "\n",
              "  <script>\n",
              "    async function quickchart(key) {\n",
              "      const quickchartButtonEl =\n",
              "        document.querySelector('#' + key + ' button');\n",
              "      quickchartButtonEl.disabled = true;  // To prevent multiple clicks.\n",
              "      quickchartButtonEl.classList.add('colab-df-spinner');\n",
              "      try {\n",
              "        const charts = await google.colab.kernel.invokeFunction(\n",
              "            'suggestCharts', [key], {});\n",
              "      } catch (error) {\n",
              "        console.error('Error during call to suggestCharts:', error);\n",
              "      }\n",
              "      quickchartButtonEl.classList.remove('colab-df-spinner');\n",
              "      quickchartButtonEl.classList.add('colab-df-quickchart-complete');\n",
              "    }\n",
              "    (() => {\n",
              "      let quickchartButtonEl =\n",
              "        document.querySelector('#df-cecb2126-8d33-41b6-9cf7-c36efc7650b1 button');\n",
              "      quickchartButtonEl.style.display =\n",
              "        google.colab.kernel.accessAllowed ? 'block' : 'none';\n",
              "    })();\n",
              "  </script>\n",
              "</div>\n",
              "    </div>\n",
              "  </div>\n"
            ],
            "application/vnd.google.colaboratory.intrinsic+json": {
              "type": "dataframe",
              "variable_name": "data",
              "summary": "{\n  \"name\": \"data\",\n  \"rows\": 2778,\n  \"fields\": [\n    {\n      \"column\": \"sub_category\",\n      \"properties\": {\n        \"dtype\": \"number\",\n        \"std\": 0,\n        \"min\": 0,\n        \"max\": 2,\n        \"num_unique_values\": 3,\n        \"samples\": [\n          0,\n          1,\n          2\n        ],\n        \"semantic_type\": \"\",\n        \"description\": \"\"\n      }\n    },\n    {\n      \"column\": \"ratings\",\n      \"properties\": {\n        \"dtype\": \"number\",\n        \"std\": 0.4954634585623814,\n        \"min\": 1.0,\n        \"max\": 5.0,\n        \"num_unique_values\": 31,\n        \"samples\": [\n          1.5,\n          2.9,\n          2.5\n        ],\n        \"semantic_type\": \"\",\n        \"description\": \"\"\n      }\n    },\n    {\n      \"column\": \"no_of_ratings\",\n      \"properties\": {\n        \"dtype\": \"number\",\n        \"std\": 8008.111733892584,\n        \"min\": 1.0,\n        \"max\": 157480.0,\n        \"num_unique_values\": 1434,\n        \"samples\": [\n          38.0,\n          5969.0,\n          1207.0\n        ],\n        \"semantic_type\": \"\",\n        \"description\": \"\"\n      }\n    },\n    {\n      \"column\": \"discount_price_usd\",\n      \"properties\": {\n        \"dtype\": \"number\",\n        \"std\": 442.27455337412744,\n        \"min\": 0.3614893360645861,\n        \"max\": 15061.9351729124,\n        \"num_unique_values\": 1197,\n        \"samples\": [\n          5.832027955175323,\n          3.5064465598264856,\n          2.831666465839258\n        ],\n        \"semantic_type\": \"\",\n        \"description\": \"\"\n      }\n    },\n    {\n      \"column\": \"actual_price_usd\",\n      \"properties\": {\n        \"dtype\": \"number\",\n        \"std\": 633.9633769013321,\n        \"min\": 0.3976382696710447,\n        \"max\": 19217.978069646942,\n        \"num_unique_values\": 878,\n        \"samples\": [\n          361.4772864200506,\n          7.109290275936861,\n          228.88299795156044\n        ],\n        \"semantic_type\": \"\",\n        \"description\": \"\"\n      }\n    },\n    {\n      \"column\": \"discount_rate\",\n      \"properties\": {\n        \"dtype\": \"number\",\n        \"std\": 23.989159520074644,\n        \"min\": 0.001771134057138,\n        \"max\": 98.98259100158263,\n        \"num_unique_values\": 2262,\n        \"samples\": [\n          60.76794657762938,\n          30.075187969924816,\n          38.888888888888886\n        ],\n        \"semantic_type\": \"\",\n        \"description\": \"\"\n      }\n    },\n    {\n      \"column\": \"agg_rating\",\n      \"properties\": {\n        \"dtype\": \"number\",\n        \"std\": 33173.117651077075,\n        \"min\": 1.0,\n        \"max\": 661416.0,\n        \"num_unique_values\": 2114,\n        \"samples\": [\n          37736.4,\n          3404.7,\n          1428.2\n        ],\n        \"semantic_type\": \"\",\n        \"description\": \"\"\n      }\n    }\n  ]\n}"
            }
          },
          "metadata": {},
          "execution_count": 3
        }
      ]
    },
    {
      "cell_type": "markdown",
      "source": [
        "## First Model: Polynomial Regression\n",
        "\n",
        "Our goal is to find the best discount rate, given an existing product with some number of ratings. Our heuristic for the best discount rate is the highest rating. Thus, we will develop our model to predict the ratings given the other columns in the normalized data"
      ],
      "metadata": {
        "id": "WaqbqRJsz7-Y"
      }
    },
    {
      "cell_type": "code",
      "source": [
        "from sklearn.model_selection import train_test_split\n",
        "\n",
        "y = data['ratings']\n",
        "X = data.drop('ratings', axis=1)\n",
        "\n",
        "X_train, X_test, y_train, y_test = train_test_split(X, y, test_size=0.1, random_state=42)\n",
        "\n",
        "print(X_train.shape)\n",
        "print(X_test.shape)\n",
        "print(y_train.shape)\n",
        "print(y_test.shape)"
      ],
      "metadata": {
        "colab": {
          "base_uri": "https://localhost:8080/"
        },
        "id": "t284hASMz-sI",
        "outputId": "0a84c9a0-7b52-4672-a411-05268e28ae8e"
      },
      "execution_count": null,
      "outputs": [
        {
          "output_type": "stream",
          "name": "stdout",
          "text": [
            "(2500, 6)\n",
            "(278, 6)\n",
            "(2500,)\n",
            "(278,)\n"
          ]
        }
      ]
    },
    {
      "cell_type": "code",
      "source": [
        "from sklearn.preprocessing import PolynomialFeatures\n",
        "from sklearn.linear_model import LinearRegression\n",
        "from sklearn.metrics import mean_squared_error\n",
        "\n",
        "degrees = [1, 2, 3, 4, 5, 6, 7, 8, 9, 10]\n",
        "test_mse_arr = []\n",
        "train_mse_arr = []\n",
        "best_model = None\n",
        "best_mse = float('inf')\n",
        "\n",
        "for degree in degrees:\n",
        "  polynomial = PolynomialFeatures(degree=degree)\n",
        "  X_train_poly = polynomial.fit_transform(X_train)\n",
        "  X_test_poly = polynomial.fit_transform(X_test)\n",
        "\n",
        "  model = LinearRegression()\n",
        "  model.fit(X_train_poly, y_train)\n",
        "\n",
        "  Y_pred = model.predict(X_test_poly)\n",
        "  Y_train_pred = model.predict(X_train_poly)\n",
        "\n",
        "  test_mse = mean_squared_error(y_test, Y_pred)\n",
        "  train_mse = mean_squared_error(y_train, Y_train_pred)\n",
        "  test_mse_arr.append(test_mse)\n",
        "  train_mse_arr.append(train_mse)\n",
        "  print(f'Degree = {degree}: Testing MSE = {test_mse}, Training MSE = {train_mse}')\n",
        "\n",
        "  if test_mse < best_mse:\n",
        "    best_model = model\n",
        "    best_mse = min(test_mse, best_mse)"
      ],
      "metadata": {
        "colab": {
          "base_uri": "https://localhost:8080/"
        },
        "id": "D22ux96xOzqz",
        "outputId": "aab069b8-4996-409a-eb2d-701c9f91ef3f"
      },
      "execution_count": null,
      "outputs": [
        {
          "output_type": "stream",
          "name": "stdout",
          "text": [
            "Degree = 1: Testing MSE = 0.32478215864292576, Training MSE = 0.21448088452247335\n",
            "Degree = 2: Testing MSE = 0.32145592919751426, Training MSE = 0.20413307748093742\n",
            "Degree = 3: Testing MSE = 0.3166030326117586, Training MSE = 0.19244262359134967\n",
            "Degree = 4: Testing MSE = 0.9350530842933358, Training MSE = 0.19923483992697247\n",
            "Degree = 5: Testing MSE = 1.6894098610266222, Training MSE = 0.23095957847888904\n",
            "Degree = 6: Testing MSE = 10.908249309459775, Training MSE = 0.34016165759857786\n",
            "Degree = 7: Testing MSE = 0.713349843618229, Training MSE = 0.2332881495318493\n",
            "Degree = 8: Testing MSE = 3.317185666113495, Training MSE = 0.2326633841713944\n",
            "Degree = 9: Testing MSE = 0.6134557351263387, Training MSE = 0.2329111263725281\n",
            "Degree = 10: Testing MSE = 0.7909835810894016, Training MSE = 0.23308581839458106\n"
          ]
        }
      ]
    },
    {
      "cell_type": "markdown",
      "source": [
        "### Fitting Graphs"
      ],
      "metadata": {
        "id": "gCCMEzBWReec"
      }
    },
    {
      "cell_type": "markdown",
      "source": [
        "Based on the test mean squared loss, we can deduce that the polynomial regression with degree=3 provides us with a reliable model. Models with higher degrees tend to over fit."
      ],
      "metadata": {
        "id": "6qMPLo1YPGMt"
      }
    },
    {
      "cell_type": "code",
      "source": [
        "plt.plot(degrees, test_mse_arr, label='Test MSE', color='blue')\n",
        "plt.plot(degrees, train_mse_arr, label='Train MSE', color='red')\n",
        "plt.xlabel('degrees')\n",
        "plt.ylabel('MSE')\n",
        "plt.title('Test and Train MSEs vs. degrees')\n",
        "plt.legend()\n",
        "plt.show()"
      ],
      "metadata": {
        "colab": {
          "base_uri": "https://localhost:8080/",
          "height": 472
        },
        "id": "6a8ykzUgPipv",
        "outputId": "b70f9247-b51c-46b6-9964-b05403adb63e"
      },
      "execution_count": null,
      "outputs": [
        {
          "output_type": "display_data",
          "data": {
            "text/plain": [
              "<Figure size 640x480 with 1 Axes>"
            ],
            "image/png": "[encoded data removed]"
          },
          "metadata": {}
        }
      ]
    },
    {
      "cell_type": "markdown",
      "source": [
        "On a log scale, we can see that model degree=3 achieves the lowest test mean squared error."
      ],
      "metadata": {
        "id": "8-ljj4sjR8we"
      }
    },
    {
      "cell_type": "code",
      "source": [
        "plt.plot(degrees, np.log(test_mse_arr), label='Test MSE', color='blue')\n",
        "plt.plot(degrees, np.log(train_mse_arr), label='Train MSE', color='red')\n",
        "plt.xlabel('degrees')\n",
        "plt.ylabel('MSE')\n",
        "plt.title('Log Scale Test and Train MSEs vs. degrees')\n",
        "plt.legend()\n",
        "plt.show()"
      ],
      "metadata": {
        "colab": {
          "base_uri": "https://localhost:8080/",
          "height": 472
        },
        "id": "V4jmD8_UR7vH",
        "outputId": "b9cd18b4-530b-4457-9292-b109d5fdfe3d"
      },
      "execution_count": null,
      "outputs": [
        {
          "output_type": "display_data",
          "data": {
            "text/plain": [
              "<Figure size 640x480 with 1 Axes>"
            ],
            "image/png": "[encoded data removed]"
          },
          "metadata": {}
        }
      ]
    },
    {
      "cell_type": "markdown",
      "source": [
        "More specifically, let's look at degrees <= 3"
      ],
      "metadata": {
        "id": "ZsK0uuFKSD0r"
      }
    },
    {
      "cell_type": "code",
      "source": [
        "plt.plot(degrees[:4], test_mse_arr[:4], label='Test MSE', color='blue')\n",
        "plt.plot(degrees[:4], train_mse_arr[:4], label='Train MSE', color='red')\n",
        "plt.xlabel('degrees')\n",
        "plt.ylabel('MSE')\n",
        "plt.title('Test and Train MSEs vs. degrees <= 4')\n",
        "plt.legend()\n",
        "plt.show()"
      ],
      "metadata": {
        "colab": {
          "base_uri": "https://localhost:8080/"
        },
        "id": "1c55ZUTNQ95c",
        "outputId": "04cda39a-6e80-4b46-8371-cc9a582f7c75"
      },
      "execution_count": null,
      "outputs": [
        {
          "output_type": "display_data",
          "data": {
            "text/plain": [
              "<Figure size 640x480 with 1 Axes>"
            ],
            "image/png": "[encoded data removed]"
          },
          "metadata": {}
        }
      ]
    },
    {
      "cell_type": "markdown",
      "source": [
        "Therefore, when building a polynomial regression model, model of degree 3 achieves the best model."
      ],
      "metadata": {
        "id": "UXATm-t51v_E"
      }
    },
    {
      "cell_type": "markdown",
      "source": [
        "### Testing out our model with a forward pass"
      ],
      "metadata": {
        "id": "_K9wb-EnVo-h"
      }
    },
    {
      "cell_type": "code",
      "source": [
        "sample1 = data.iloc[0]\n",
        "\n",
        "polynomial = PolynomialFeatures(degree=3)\n",
        "X_train_poly = polynomial.fit_transform(X_train)\n",
        "\n",
        "model = LinearRegression()\n",
        "model.fit(X_train_poly, y_train)\n",
        "\n",
        "y1 = sample1['ratings']\n",
        "x1 = sample1.drop('ratings')\n",
        "x1 = x1.to_frame().T\n",
        "x1_poly = polynomial.fit_transform(x1)\n",
        "\n",
        "yhat1 = model.predict(x1_poly)\n",
        "print(f'Expected: {y1}, Prediction: {yhat1}')"
      ],
      "metadata": {
        "colab": {
          "base_uri": "https://localhost:8080/"
        },
        "id": "ZV753-cHTBrY",
        "outputId": "ba0a5a9c-569e-42c9-c1ee-97a27200e069"
      },
      "execution_count": null,
      "outputs": [
        {
          "output_type": "stream",
          "name": "stdout",
          "text": [
            "Expected: 4.1, Prediction: [4.03646184]\n"
          ]
        }
      ]
    },
    {
      "cell_type": "code",
      "source": [
        "sample2 = data.iloc[1]\n",
        "\n",
        "y2 = sample2['ratings']\n",
        "x2 = sample2.drop('ratings')\n",
        "x2 = x2.to_frame().T\n",
        "x2_poly = polynomial.fit_transform(x2)\n",
        "\n",
        "yhat2 = model.predict(x2_poly)\n",
        "print(f'Expected: {y2}, Prediction: {yhat2}')\n"
      ],
      "metadata": {
        "colab": {
          "base_uri": "https://localhost:8080/"
        },
        "id": "3RNc-ZOyVtCn",
        "outputId": "e4ad8b51-b15d-43a4-a069-9dd058b4aea1"
      },
      "execution_count": null,
      "outputs": [
        {
          "output_type": "stream",
          "name": "stdout",
          "text": [
            "Expected: 4.4, Prediction: [4.40735608]\n"
          ]
        }
      ]
    },
    {
      "cell_type": "code",
      "source": [
        "sample3 = data.iloc[1000]\n",
        "\n",
        "y3 = sample3['ratings']\n",
        "x3 = sample3.drop('ratings')\n",
        "x3 = x3.to_frame().T\n",
        "x3_poly = polynomial.fit_transform(x3)\n",
        "\n",
        "yhat3 = model.predict(x3_poly)\n",
        "print(f'Expected: {y3}, Prediction: {yhat3}')\n"
      ],
      "metadata": {
        "colab": {
          "base_uri": "https://localhost:8080/"
        },
        "id": "izpFMVKpV2dN",
        "outputId": "151c2107-43ad-4135-d370-f41ccdf39067"
      },
      "execution_count": null,
      "outputs": [
        {
          "output_type": "stream",
          "name": "stdout",
          "text": [
            "Expected: 4.5, Prediction: [4.00685458]\n"
          ]
        }
      ]
    },
    {
      "cell_type": "code",
      "source": [
        "sample4 = data.iloc[2000]\n",
        "\n",
        "y4 = sample4['ratings']\n",
        "x4 = sample4.drop('ratings')\n",
        "x4 = x4.to_frame().T\n",
        "x4_poly = polynomial.fit_transform(x4)\n",
        "\n",
        "yhat4 = model.predict(x4_poly)\n",
        "print(f'Expected: {y4}, Prediction: {yhat4}')"
      ],
      "metadata": {
        "colab": {
          "base_uri": "https://localhost:8080/"
        },
        "id": "-roQPpliV91W",
        "outputId": "960727f6-1bf1-4550-98bd-f3753b7c7c58"
      },
      "execution_count": null,
      "outputs": [
        {
          "output_type": "stream",
          "name": "stdout",
          "text": [
            "Expected: 4.0, Prediction: [3.99042183]\n"
          ]
        }
      ]
    },
    {
      "cell_type": "code",
      "source": [
        "sample5 = data.iloc[2200]\n",
        "\n",
        "y5 = sample5['ratings']\n",
        "x5 = sample5.drop('ratings')\n",
        "x5 = x5.to_frame().T\n",
        "x5_poly = polynomial.fit_transform(x5)\n",
        "\n",
        "yhat5 = model.predict(x5_poly)\n",
        "print(f'Expected: {y5}, Prediction: {yhat5}')"
      ],
      "metadata": {
        "colab": {
          "base_uri": "https://localhost:8080/"
        },
        "id": "_pBmGmkCWFtG",
        "outputId": "09a70a6a-5260-4d2f-e9e6-e6bac9361189"
      },
      "execution_count": null,
      "outputs": [
        {
          "output_type": "stream",
          "name": "stdout",
          "text": [
            "Expected: 4.5, Prediction: [4.14260542]\n"
          ]
        }
      ]
    },
    {
      "cell_type": "markdown",
      "source": [
        "As shown above, although the testing loss is low, some of the forward pass through the degree=3 polynomial regression results in a pretty big difference between expected and predicted ratings values."
      ],
      "metadata": {
        "id": "uXJduaUKWM8M"
      }
    }
  ]
}